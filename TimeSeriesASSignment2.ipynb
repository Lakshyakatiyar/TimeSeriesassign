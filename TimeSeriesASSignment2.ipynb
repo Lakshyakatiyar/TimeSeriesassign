{
 "cells": [
  {
   "cell_type": "markdown",
   "id": "8ea27f14-1733-4eb0-8043-7416e6d4733d",
   "metadata": {},
   "source": [
    "1.Time-dependent seasonal components:\n",
    "Time-dependent seasonal components refer to seasonal patterns in time series data that change over time. Unlike static seasonal patterns that remain constant, time-dependent seasonal components evolve or vary with time, reflecting changes in seasonality patterns over different periods."
   ]
  },
  {
   "cell_type": "markdown",
   "id": "ef04a923-ac7e-4cc7-977d-c1d9f9127250",
   "metadata": {},
   "source": [
    "2.Identification of time-dependent seasonal components:\n",
    "Time-dependent seasonal components can be identified through visual inspection of time series plots, decomposition techniques like seasonal decomposition of time series (STL), or by using statistical tests to detect changes in seasonal patterns over time."
   ]
  },
  {
   "cell_type": "markdown",
   "id": "cf760cef-08a6-4dcb-9a27-38d5ae44eefe",
   "metadata": {},
   "source": [
    "3.Factors influencing time-dependent seasonal components:\n",
    "Several factors can influence time-dependent seasonal components, including changes in consumer behavior, market dynamics, technological advancements, environmental factors, regulatory changes, and socio-economic trends. These factors can lead to shifts or variations in seasonal patterns over time."
   ]
  },
  {
   "cell_type": "markdown",
   "id": "6eb79890-acf6-48e8-8ef1-a2f32f3dcc36",
   "metadata": {},
   "source": [
    "4.Autoregression (AR) models in time series analysis and forecasting:\n",
    "Autoregression models are used to model the relationship between an observation and a number of lagged observations (autoregressive terms) of the same time series. They are commonly used in time series analysis and forecasting to capture temporal dependencies and predict future values based on past observations."
   ]
  },
  {
   "cell_type": "markdown",
   "id": "9ab8d702-2554-4923-a514-a60a5ad25ce3",
   "metadata": {},
   "source": [
    "5.Making predictions with autoregression models:\n",
    "To make predictions for future time points using autoregression models, the model parameters (coefficients) are estimated using historical data. Once the model is trained, it can be used to forecast future values by recursively applying the autoregressive equation with the previously observed values."
   ]
  },
  {
   "cell_type": "markdown",
   "id": "f024ce04-9915-4d38-a624-4d2489039fa8",
   "metadata": {},
   "source": [
    "6.Moving Average (MA) model:\n",
    "A moving average (MA) model is a time series model that represents the relationship between an observation and a linear combination of past white noise error terms. Unlike autoregressive models that depend on past observations, MA models depend on past forecast errors. They are used to capture short-term fluctuations or random shocks in the data."
   ]
  },
  {
   "cell_type": "markdown",
   "id": "9aa4263e-7b7c-4694-a423-2e5c2436af0b",
   "metadata": {},
   "source": [
    "7.Mixed ARMA model:\n",
    "A mixed autoregressive moving average (ARMA) model combines both autoregressive (AR) and moving average (MA) components to capture both the temporal dependencies in past observations and the short-term fluctuations or random shocks. A mixed ARMA model differs from AR or MA models by incorporating both autoregressive and moving average terms to model the time series data. This allows for more flexibility in capturing different patterns and structures in the data.\n",
    "\n",
    "\n",
    "\n",
    "\n",
    "\n"
   ]
  },
  {
   "cell_type": "code",
   "execution_count": null,
   "id": "98935381-903c-48ed-9250-2b5959b9f689",
   "metadata": {},
   "outputs": [],
   "source": []
  }
 ],
 "metadata": {
  "kernelspec": {
   "display_name": "Python 3 (ipykernel)",
   "language": "python",
   "name": "python3"
  },
  "language_info": {
   "codemirror_mode": {
    "name": "ipython",
    "version": 3
   },
   "file_extension": ".py",
   "mimetype": "text/x-python",
   "name": "python",
   "nbconvert_exporter": "python",
   "pygments_lexer": "ipython3",
   "version": "3.10.8"
  }
 },
 "nbformat": 4,
 "nbformat_minor": 5
}
